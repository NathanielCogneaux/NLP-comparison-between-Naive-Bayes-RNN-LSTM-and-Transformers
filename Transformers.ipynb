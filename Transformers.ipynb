{
 "cells": [
  {
   "cell_type": "code",
   "execution_count": null,
   "metadata": {},
   "outputs": [],
   "source": [
    "import pandas as pd\n",
    "import nltk\n",
    "from nltk.corpus import stopwords\n",
    "from nltk.tokenize import word_tokenize\n",
    "from nltk.stem import WordNetLemmatizer\n",
    "import re\n",
    "from sklearn.metrics import accuracy_score\n",
    "from transformers import BertTokenizer, BertForSequenceClassification, Trainer, TrainingArguments\n",
    "from datasets import load_dataset, Dataset\n",
    "from sklearn.model_selection import train_test_split\n",
    "import matplotlib.pyplot as plt\n",
    "\n",
    "# Download necessary NLTK data\n",
    "nltk.download('wordnet')\n",
    "nltk.download('punkt')\n",
    "nltk.download('stopwords')"
   ]
  },
  {
   "cell_type": "markdown",
   "metadata": {},
   "source": [
    "# Data study"
   ]
  },
  {
   "cell_type": "code",
   "execution_count": null,
   "metadata": {},
   "outputs": [],
   "source": [
    "# import the Sentiment Analysis for Financial News DataSet: FinancialPhraseBank (Available on Hugging Face)\n",
    "\n",
    "# https://huggingface.co/datasets/financial_phrasebank\n",
    "# 0 is negative\n",
    "# 1 is positive\n",
    "# 2 is neutral\n",
    "\n",
    "dataset = load_dataset(\"financial_phrasebank\", \"sentences_allagree\")\n",
    "\n",
    "# Convert to pandas DataFrame\n",
    "df = pd.DataFrame(dataset[\"train\"])\n",
    "\n",
    "# Print the first few rows to understand the structure\n",
    "print(df.head())"
   ]
  },
  {
   "cell_type": "code",
   "execution_count": null,
   "metadata": {},
   "outputs": [],
   "source": [
    "df = pd.DataFrame(dataset[\"train\"])\n",
    "\n",
    "df_distrib = df[\"label\"].value_counts()\n",
    "plt.bar(df_distrib.index, df_distrib.values)\n",
    "plt.xlabel(\"label\")\n",
    "plt.ylabel(\"count\")\n",
    "plt.title(\"Distribution of the data among the labels\")"
   ]
  },
  {
   "cell_type": "code",
   "execution_count": null,
   "metadata": {},
   "outputs": [],
   "source": [
    "from wordcloud import WordCloud\n",
    "\n",
    "text = \" \".join(df[\"sentence\"])\n",
    "\n",
    "wordcloud = WordCloud().generate(text)\n",
    "\n",
    "plt.imshow(wordcloud, interpolation='bilinear')\n",
    "plt.axis(\"off\")"
   ]
  },
  {
   "cell_type": "code",
   "execution_count": null,
   "metadata": {},
   "outputs": [],
   "source": [
    "import seaborn as sns\n",
    "\n",
    "phrase_length = pd.DataFrame(data=dataset[\"train\"]).apply(lambda x : len(x[\"sentence\"]), axis=1)\n",
    "sns.histplot(phrase_length, bins=30, kde=True)\n",
    "plt.title('Distribution of Phrase Lengths')\n",
    "plt.xlabel('Phrase Length')\n",
    "plt.show()\n",
    "\n",
    "number_words = pd.DataFrame(data=dataset[\"train\"]).apply(lambda x : len(x[\"sentence\"].split(\" \")), axis=1)\n",
    "sns.histplot(number_words, bins=30, kde=True)\n",
    "plt.title('Distribution Number of words in Phrases')\n",
    "plt.xlabel('Phrase Length')\n",
    "plt.show()"
   ]
  },
  {
   "cell_type": "markdown",
   "metadata": {},
   "source": [
    "# Preprocess the data"
   ]
  },
  {
   "cell_type": "code",
   "execution_count": null,
   "metadata": {},
   "outputs": [],
   "source": [
    "# Define stopwords\n",
    "en_stopwords = set(stopwords.words(\"english\"))\n",
    "\n",
    "# Define preprocessing function\n",
    "def preprocessing(sentence):\n",
    "    sentence = sentence.lower()  # Remove caps\n",
    "    sentence = re.sub(r\"[^a-z\\s]\", \"\", sentence)  # Remove everything that is not a letter or a space\n",
    "    sentence = word_tokenize(sentence)  # Tokenize\n",
    "    sentence = [word for word in sentence if word not in en_stopwords]  # Remove stopwords\n",
    "    lemmatizer = WordNetLemmatizer()\n",
    "    sentence = [lemmatizer.lemmatize(word) for word in sentence]  # Lemmatize\n",
    "    return \" \".join(sentence)\n",
    "\n",
    "# Preprocess the sentences for the training and validation sets\n",
    "df[\"sentence_preprocessed\"] = df[\"sentence\"].apply(preprocessing)\n",
    "\n",
    "print(df.head())"
   ]
  },
  {
   "cell_type": "code",
   "execution_count": null,
   "metadata": {},
   "outputs": [],
   "source": [
    "# Define tokenizer\n",
    "tokenizer = BertTokenizer.from_pretrained('bert-base-uncased')\n",
    "\n",
    "# Define tokenization function\n",
    "def tokenize(batch):\n",
    "    return tokenizer(batch['sentence_preprocessed'], padding='max_length', truncation=True, max_length=512)\n",
    "\n",
    "# Tokenize the dataset\n",
    "preprocessed_dataset = Dataset.from_pandas(df[['sentence_preprocessed', 'label']])\n",
    "preprocessed_dataset = preprocessed_dataset.map(tokenize, batched=True)\n",
    "\n",
    "# Add labels to the dataset and set format for PyTorch\n",
    "preprocessed_dataset.set_format(type='torch', columns=['input_ids', 'attention_mask', 'label'])\n",
    "\n",
    "# Split the dataset into training, validation, and testing datasets\n",
    "length = len(preprocessed_dataset)\n",
    "indices = list(range(length))\n",
    "train_val_indices, test_indices = train_test_split(indices, test_size=0.2, random_state=42)\n",
    "\n",
    "train_val_dataset = preprocessed_dataset.select(train_val_indices)\n",
    "test_dataset = df.loc[test_indices]  # Non-preprocessed test set in DataFrame format\n",
    "\n",
    "# Further split the train_val_dataset into training and validation datasets\n",
    "train_indices, val_indices = train_test_split(\n",
    "    list(range(len(train_val_dataset))), test_size=0.2, random_state=42\n",
    ")\n",
    "\n",
    "train_dataset = train_val_dataset.select(train_indices)\n",
    "val_dataset = train_val_dataset.select(val_indices)\n",
    "\n",
    "# Print data splits\n",
    "print(f\"Number of training samples: {len(train_dataset)}\")\n",
    "print(f\"Number of validation samples: {len(val_dataset)}\")\n",
    "print(f\"Number of test samples: {len(test_dataset)}\")"
   ]
  },
  {
   "cell_type": "markdown",
   "metadata": {},
   "source": [
    "# Bert fine-tuning"
   ]
  },
  {
   "cell_type": "code",
   "execution_count": null,
   "metadata": {},
   "outputs": [],
   "source": [
    "# Define the model\n",
    "model = BertForSequenceClassification.from_pretrained('bert-base-uncased', num_labels=3)\n",
    "\n",
    "# Define the training arguments\n",
    "training_args = TrainingArguments(\n",
    "    output_dir='./results',\n",
    "    num_train_epochs=3,\n",
    "    per_device_train_batch_size=16,\n",
    "    per_device_eval_batch_size=64,\n",
    "    warmup_steps=500,\n",
    "    weight_decay=0.01,\n",
    "    logging_dir='./logs',\n",
    "    evaluation_strategy=\"epoch\",  # Evaluate at the end of each epoch\n",
    "    save_strategy=\"epoch\",  # Save at the end of each epoch\n",
    "    load_best_model_at_end=True,\n",
    "    metric_for_best_model=\"eval_accuracy\",\n",
    ")\n",
    "\n",
    "def compute_metrics(pred):\n",
    "    labels = pred.label_ids\n",
    "    preds = pred.predictions.argmax(-1)\n",
    "    acc = accuracy_score(labels, preds)\n",
    "    return {\n",
    "        'accuracy': acc,\n",
    "    }\n",
    "\n",
    "trainer = Trainer(\n",
    "    model=model,\n",
    "    args=training_args,\n",
    "    train_dataset=train_dataset,\n",
    "    eval_dataset=val_dataset,\n",
    "    compute_metrics=compute_metrics,\n",
    ")\n",
    "\n",
    "# Train the model\n",
    "trainer.train()"
   ]
  },
  {
   "cell_type": "markdown",
   "metadata": {},
   "source": [
    "# Evaluate our fine-tuning"
   ]
  },
  {
   "cell_type": "code",
   "execution_count": null,
   "metadata": {},
   "outputs": [],
   "source": [
    "# Evaluate the model on the training set\n",
    "training_accuracy = trainer.evaluate(train_dataset)\n",
    "print(f\"Training accuracy: {training_accuracy['eval_accuracy']}\")\n",
    "\n",
    "# Evaluate the model on the validation set\n",
    "validation_accuracy = trainer.evaluate(val_dataset)\n",
    "print(f\"Validation accuracy: {validation_accuracy['eval_accuracy']}\")\n",
    "\n",
    "# Define tokenization function for non-preprocessed test set\n",
    "def tokenize_no_preprocessing(batch):\n",
    "    return tokenizer(batch['sentence'], padding='max_length', truncation=True, max_length=512)\n",
    "\n",
    "# Convert non-preprocessed test set to Hugging Face dataset\n",
    "test_dataset_hf = Dataset.from_pandas(test_dataset[['sentence', 'label']])\n",
    "\n",
    "# Tokenize the non-preprocessed test set\n",
    "test_dataset_hf = test_dataset_hf.map(tokenize_no_preprocessing, batched=True)\n",
    "test_dataset_hf.set_format(type='torch', columns=['input_ids', 'attention_mask', 'label'])\n",
    "\n",
    "# Evaluate the model on the non-preprocessed test set\n",
    "evaluation_results = trainer.evaluate(test_dataset_hf)\n",
    "print(f\"Accuracy on the test set: {evaluation_results['eval_accuracy']}\")\n",
    "\n",
    "# Print evaluation results\n",
    "print(evaluation_results)"
   ]
  }
 ],
 "metadata": {
  "language_info": {
   "name": "python"
  }
 },
 "nbformat": 4,
 "nbformat_minor": 2
}
